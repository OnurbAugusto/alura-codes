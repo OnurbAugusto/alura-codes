{
  "nbformat": 4,
  "nbformat_minor": 0,
  "metadata": {
    "colab": {
      "provenance": [],
      "authorship_tag": "ABX9TyMI+Cu6CTTHG8SI8ifCPipg",
      "include_colab_link": true
    },
    "kernelspec": {
      "name": "python3",
      "display_name": "Python 3"
    },
    "language_info": {
      "name": "python"
    }
  },
  "cells": [
    {
      "cell_type": "markdown",
      "metadata": {
        "id": "view-in-github",
        "colab_type": "text"
      },
      "source": [
        "<a href=\"https://colab.research.google.com/github/OnurbAugusto/alura-codes/blob/master/Introdu%C3%A7%C3%A3oListaTuplas.ipynb\" target=\"_parent\"><img src=\"https://colab.research.google.com/assets/colab-badge.svg\" alt=\"Open In Colab\"/></a>"
      ]
    },
    {
      "cell_type": "code",
      "execution_count": 8,
      "metadata": {
        "id": "nXnYLWzxWFQ-"
      },
      "outputs": [],
      "source": [
        "idades = [12, 32, 32, 45, 23, 64, 23, 53, 5, 23]"
      ]
    },
    {
      "cell_type": "code",
      "source": [
        "idades\n"
      ],
      "metadata": {
        "colab": {
          "base_uri": "https://localhost:8080/"
        },
        "id": "hiIpGgTFWOEl",
        "outputId": "af3f9beb-a320-45e7-f0f1-63512417f03b"
      },
      "execution_count": 9,
      "outputs": [
        {
          "output_type": "execute_result",
          "data": {
            "text/plain": [
              "[12, 32, 32, 45, 23, 64, 23, 53, 5, 23]"
            ]
          },
          "metadata": {},
          "execution_count": 9
        }
      ]
    },
    {
      "cell_type": "code",
      "source": [
        "idades.append(99)"
      ],
      "metadata": {
        "id": "0hqufFgzWSBl"
      },
      "execution_count": 10,
      "outputs": []
    },
    {
      "cell_type": "code",
      "source": [
        "idades\n",
        "idades.remove(23)\n",
        "idades\n"
      ],
      "metadata": {
        "colab": {
          "base_uri": "https://localhost:8080/"
        },
        "id": "KdUJsviWWWBt",
        "outputId": "f2205a2b-f4da-4728-8761-dfad2d570e2b"
      },
      "execution_count": 11,
      "outputs": [
        {
          "output_type": "execute_result",
          "data": {
            "text/plain": [
              "[12, 32, 32, 45, 64, 23, 53, 5, 23, 99]"
            ]
          },
          "metadata": {},
          "execution_count": 11
        }
      ]
    },
    {
      "cell_type": "code",
      "source": [
        "idades_novo = [11,22,33]"
      ],
      "metadata": {
        "id": "ubkIywDqXHde"
      },
      "execution_count": 12,
      "outputs": []
    },
    {
      "cell_type": "code",
      "source": [
        "idades.extend(idades_novo)"
      ],
      "metadata": {
        "id": "HlsYQGT8XeYV"
      },
      "execution_count": 13,
      "outputs": []
    },
    {
      "cell_type": "code",
      "source": [
        "idades\n"
      ],
      "metadata": {
        "colab": {
          "base_uri": "https://localhost:8080/"
        },
        "id": "IyN85pJ5Xk-9",
        "outputId": "01543cea-5333-4d52-cf41-9aad372ebd30"
      },
      "execution_count": 14,
      "outputs": [
        {
          "output_type": "execute_result",
          "data": {
            "text/plain": [
              "[12, 32, 32, 45, 64, 23, 53, 5, 23, 99, 11, 22, 33]"
            ]
          },
          "metadata": {},
          "execution_count": 14
        }
      ]
    },
    {
      "cell_type": "code",
      "source": [
        "idades.count(32)"
      ],
      "metadata": {
        "colab": {
          "base_uri": "https://localhost:8080/"
        },
        "id": "op3ZzCkCXl4V",
        "outputId": "56181c68-1fc4-4a9c-fec9-16896a3c06c2"
      },
      "execution_count": 15,
      "outputs": [
        {
          "output_type": "execute_result",
          "data": {
            "text/plain": [
              "2"
            ]
          },
          "metadata": {},
          "execution_count": 15
        }
      ]
    },
    {
      "cell_type": "code",
      "source": [
        "idades.reverse()"
      ],
      "metadata": {
        "id": "rCN6wleFYE6N"
      },
      "execution_count": 17,
      "outputs": []
    },
    {
      "cell_type": "code",
      "source": [
        "idades"
      ],
      "metadata": {
        "colab": {
          "base_uri": "https://localhost:8080/"
        },
        "id": "EKOUc908YKb1",
        "outputId": "06e202b7-fce4-4851-ce3b-023fadd271ad"
      },
      "execution_count": 18,
      "outputs": [
        {
          "output_type": "execute_result",
          "data": {
            "text/plain": [
              "[33, 22, 11, 99, 23, 5, 53, 23, 64, 45, 32, 32, 12]"
            ]
          },
          "metadata": {},
          "execution_count": 18
        }
      ]
    },
    {
      "cell_type": "code",
      "source": [
        "if 22 in idades:\n",
        "  idades.remove(22)"
      ],
      "metadata": {
        "id": "tJkKXvgPYQEN"
      },
      "execution_count": 20,
      "outputs": []
    },
    {
      "cell_type": "code",
      "source": [
        " idades_mais = [(idade + 1) for idade in idades]"
      ],
      "metadata": {
        "id": "wXkvit1hYiRl"
      },
      "execution_count": 23,
      "outputs": []
    },
    {
      "cell_type": "code",
      "source": [
        "idades_mais"
      ],
      "metadata": {
        "colab": {
          "base_uri": "https://localhost:8080/"
        },
        "id": "U71Du-WfbPpO",
        "outputId": "041df35b-77bb-4ce0-fb4d-d978349a40df"
      },
      "execution_count": 24,
      "outputs": [
        {
          "output_type": "execute_result",
          "data": {
            "text/plain": [
              "[34, 12, 100, 24, 6, 54, 24, 65, 46, 33, 33, 13]"
            ]
          },
          "metadata": {},
          "execution_count": 24
        }
      ]
    },
    {
      "cell_type": "code",
      "source": [
        " [(idade) for idade in idades if idade > 30]"
      ],
      "metadata": {
        "colab": {
          "base_uri": "https://localhost:8080/"
        },
        "id": "PwtNUle3b03a",
        "outputId": "c40882ff-28aa-479e-9faf-4a5351809cbc"
      },
      "execution_count": 26,
      "outputs": [
        {
          "output_type": "execute_result",
          "data": {
            "text/plain": [
              "[33, 99, 53, 64, 45, 32, 32]"
            ]
          },
          "metadata": {},
          "execution_count": 26
        }
      ]
    }
  ]
}